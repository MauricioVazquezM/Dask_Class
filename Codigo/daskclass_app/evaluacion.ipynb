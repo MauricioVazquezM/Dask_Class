{
 "cells": [
  {
   "attachments": {},
   "cell_type": "markdown",
   "metadata": {},
   "source": [
    "# Tarea"
   ]
  },
  {
   "attachments": {},
   "cell_type": "markdown",
   "metadata": {},
   "source": [
    "Usando el file 'nycflights', inserta el codigo para responder las siguientes preguntas.\n",
    " - Paraleliza los procesos y aprovecha los 'features' de dask para ahorrar tiempo. "
   ]
  },
  {
   "cell_type": "code",
   "execution_count": null,
   "metadata": {},
   "outputs": [],
   "source": [
    "# Utilizar selecciones estilo pandas df[...] para encontrar la cantidad de vuelos atrasados y la cantidad de vuelos con salida temprana\n",
    "# Revisar la columna depDelay\n"
   ]
  },
  {
   "cell_type": "code",
   "execution_count": null,
   "metadata": {},
   "outputs": [],
   "source": [
    "# Cuantos vuelos fueron tomados en total, sin contar los que fueron cancelados?\n"
   ]
  },
  {
   "cell_type": "code",
   "execution_count": null,
   "metadata": {},
   "outputs": [],
   "source": [
    "# Retomando la pregunta anterior, cuantos vuelos fueron tomados en total *POR AEROPUERTO*?\n",
    "# Hint : usar groupby y size\n"
   ]
  },
  {
   "cell_type": "code",
   "execution_count": null,
   "metadata": {},
   "outputs": [],
   "source": [
    "# Que dia de la semana tiene el peor promedio en la columna departure delay?\n"
   ]
  },
  {
   "cell_type": "code",
   "execution_count": null,
   "metadata": {},
   "outputs": [],
   "source": [
    "# Digamos que hubo un error en el registro de las distancias de todos los vuelos, por lo tanto hay que arreglarlo.\n",
    "# Supongamos que la distancia real es el 75% de la distancia registrada\n"
   ]
  },
  {
   "cell_type": "code",
   "execution_count": null,
   "metadata": {},
   "outputs": [],
   "source": [
    "# EXTRA : Con las columnas Date, DayOfWeek\ty DepTime crea una nueva columan que contenga toda la informacion del vuelo en formato time.\n",
    "# 1990-01-01  1.0  1621.0  -->  1990-01-01, Monday 16:21:00"
   ]
  }
 ],
 "metadata": {
  "language_info": {
   "name": "python"
  },
  "orig_nbformat": 4
 },
 "nbformat": 4,
 "nbformat_minor": 2
}
